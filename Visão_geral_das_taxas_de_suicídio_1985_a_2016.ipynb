{
  "cells": [
    {
      "cell_type": "markdown",
      "metadata": {
        "id": "view-in-github",
        "colab_type": "text"
      },
      "source": [
        "<a href=\"https://colab.research.google.com/github/andreiaoft/bootcamp-ai-luis-speech-search/blob/main/Vis%C3%A3o_geral_das_taxas_de_suic%C3%ADdio_1985_a_2016.ipynb\" target=\"_parent\"><img src=\"https://colab.research.google.com/assets/colab-badge.svg\" alt=\"Open In Colab\"/></a>"
      ]
    },
    {
      "cell_type": "markdown",
      "metadata": {
        "id": "R53OkXNPm0cS"
      },
      "source": [
        ""
      ]
    },
    {
      "cell_type": "markdown",
      "metadata": {
        "id": "9R6S_pU2oGFv"
      },
      "source": [
        "# Visão geral das taxas de suicídio 1985 a 2016!\n",
        "#### Compara informações socioeconômicas com taxas de suicídio por ano e país \n",
        "\n",
        "A Organização Mundial de Saúde  considera o  suicídio como um problema de saúde pública, uma vez que para cada suicídio exista outras dez tentativas potenciais graves merecedoras da assistência médica. O suicídio já é considerado a segunda  ou terceira causa de morte entre pessoas de 15 a 34 anos de idade, além de estar entre as 10 causas mais frequentes de morte.\n",
        "\n",
        "**Objetivo:**\n",
        "Este portifólio foi criado com um propósito de tangibilizar os conceitos aprendidos no Curso de Python Analytics da escola Mineradores.  \n",
        "\n"
      ]
    },
    {
      "cell_type": "code",
      "execution_count": null,
      "metadata": {
        "id": "_gcPsY5XpkbD"
      },
      "outputs": [],
      "source": [
        "## Carregamento da base de dados- Database Upload\n",
        "import pandas as pd\n",
        "import numpy as np\n",
        "import matplotlib.pyplot as plt\n",
        "import seaborn as srn\n",
        "import statistics as sts\n",
        "data = pd. read_csv (\"/content/drive/MyDrive/Dados_Machine_learning/master.csv\")\n"
      ]
    },
    {
      "cell_type": "code",
      "execution_count": null,
      "metadata": {
        "colab": {
          "base_uri": "https://localhost:8080/"
        },
        "id": "TZaWXi_TqqM0",
        "outputId": "ca55f540-4e04-4414-aac3-c43f551dacf9"
      },
      "outputs": [
        {
          "data": {
            "text/plain": [
              "(27820, 12)"
            ]
          },
          "execution_count": 3,
          "metadata": {},
          "output_type": "execute_result"
        }
      ],
      "source": [
        "## Tamanho do dataset- Dataset format\n",
        "data.shape\n",
        "# Há 27820 linhas e 12 colunas- There are 27820 rows and 12 columns"
      ]
    },
    {
      "cell_type": "code",
      "execution_count": null,
      "metadata": {
        "id": "8QMBTBJJpnDs"
      },
      "outputs": [],
      "source": [
        "# Visualizando os primeiros registros- Viewing the first records\n",
        "data.head()"
      ]
    },
    {
      "cell_type": "code",
      "execution_count": null,
      "metadata": {
        "id": "XqDPnrx7pL8K"
      },
      "outputs": [],
      "source": [
        "# Tipos dos dados- Data Types\n",
        "data.dtypes\n"
      ]
    },
    {
      "cell_type": "code",
      "execution_count": null,
      "metadata": {
        "id": "76lh49XHJVCX"
      },
      "outputs": [],
      "source": [
        "# Análise exploratória:\n",
        "data['HDI for year'].describe()\n",
        "# Os valores da média e da mediana estão bem próximos, o que nos dá indícios de não ter grandes outliers.\n",
        "# The mean and median values are very close, which gives us indications of no large outliers.\n",
        "\n"
      ]
    },
    {
      "cell_type": "code",
      "execution_count": null,
      "metadata": {
        "id": "aN_skB_ZglE-"
      },
      "outputs": [],
      "source": [
        "plt.figure(figsize=(10,5))\n",
        "srn.boxplot(data['HDI for year']).set_title('HDI Year')\n",
        "plt.show()\n",
        "# observação : gostaria de saber como eu retiro esse texto em cima do gráfico"
      ]
    },
    {
      "cell_type": "code",
      "execution_count": null,
      "metadata": {
        "id": "KvwkNKV-pVA_"
      },
      "outputs": [],
      "source": [
        "plt.figure(figsize=(10,5))\n",
        "srn.distplot(data['HDI for year']).set_title('HDI YEAR')"
      ]
    },
    {
      "cell_type": "code",
      "execution_count": null,
      "metadata": {
        "id": "6xtD4o9-p8b0"
      },
      "outputs": [],
      "source": [
        "# Número de suicídios por 100 mil/habitantes- suicides/100k inhabitants\n",
        "data['suicides/100k pop'].describe()\n",
        "# dados bastantes discrepantes. Very discrepant data.\n"
      ]
    },
    {
      "cell_type": "code",
      "execution_count": null,
      "metadata": {
        "id": "p_yyGgHquG-b"
      },
      "outputs": [],
      "source": [
        "srn.distplot(data['suicides/100k pop']).set_title('suicides/100k pop')"
      ]
    },
    {
      "cell_type": "code",
      "execution_count": null,
      "metadata": {
        "id": "fcNXzVK2tRjW"
      },
      "outputs": [],
      "source": [
        "srn.boxplot(data['suicides/100k pop']).set_title('suicides/100k pop')"
      ]
    },
    {
      "cell_type": "code",
      "execution_count": null,
      "metadata": {
        "id": "JwzlSft_kiGG"
      },
      "outputs": [],
      "source": [
        "data.groupby('age').head(1)"
      ]
    },
    {
      "cell_type": "code",
      "execution_count": null,
      "metadata": {
        "id": "TN73mb2flboG"
      },
      "outputs": [],
      "source": [
        "data.groupby('age').describe()"
      ]
    },
    {
      "cell_type": "code",
      "execution_count": null,
      "metadata": {
        "id": "_HBJgXOFoaw1"
      },
      "outputs": [],
      "source": [
        "data.groupby([\"age\", \"sex\"]).size()"
      ]
    },
    {
      "cell_type": "code",
      "execution_count": null,
      "metadata": {
        "id": "ovx81ESJm5Gc"
      },
      "outputs": [],
      "source": [
        "plt.figure(figsize=(10,5))\n",
        "srn.barplot(x = \"age\", y = 'suicides/100k pop', hue = \"sex\", data = data.groupby([\"age\", \"sex\"]).sum().reset_index())\n",
        "plt.show()"
      ]
    },
    {
      "cell_type": "code",
      "execution_count": null,
      "metadata": {
        "id": "vf5eS-rqyEBl"
      },
      "outputs": [],
      "source": [
        "# Estatísticas descritivas do Dataframe- Dataframe descriptive statistics \n",
        "data.describe().T"
      ]
    },
    {
      "cell_type": "code",
      "execution_count": null,
      "metadata": {
        "id": "ZJtqwoHNCFCS"
      },
      "outputs": [],
      "source": [
        "# Soma dos valores em cada coluna do Dataframe- Sum of the values in each column of the Dataframe\n",
        "data.sum()"
      ]
    },
    {
      "cell_type": "code",
      "execution_count": null,
      "metadata": {
        "id": "A6VhiQRGzJsv"
      },
      "outputs": [],
      "source": [
        "# Contar registros na base- Count records in the database\n",
        "data.count()\n",
        "# Há dados faltantes na coluna IDH: There is missing data in the HDI column"
      ]
    },
    {
      "cell_type": "code",
      "execution_count": null,
      "metadata": {
        "id": "yFfmP4q5JEH-"
      },
      "outputs": [],
      "source": [
        "# Contando valores NaN- Counting NaN values\n",
        "# Há 19.456 dados não preenchidas na coluna IDH- There are 19,456 missing data in the HDI column\n",
        "data.isnull().sum()"
      ]
    },
    {
      "cell_type": "code",
      "execution_count": null,
      "metadata": {
        "id": "a4NCglX8DQ_k"
      },
      "outputs": [],
      "source": [
        "data['HDI for year'].describe()"
      ]
    },
    {
      "cell_type": "code",
      "execution_count": null,
      "metadata": {
        "id": "Wdi5o_vOCiXV"
      },
      "outputs": [],
      "source": [
        "faltantes = data.isnull().sum\n",
        "faltantes_percentual = (data.isnull()/len(data['HDI for year']))*100\n",
        "print(faltantes_percentual) "
      ]
    },
    {
      "cell_type": "code",
      "execution_count": null,
      "metadata": {
        "id": "im_0myZpoAcH"
      },
      "outputs": [],
      "source": [
        "# Maneiras de resolver os valores missing:remoção, imputação com zero, valores centrais ou estatisticamente estimados.\n",
        "# Entretanto para isso é necessário verificar se os dados apresentam uma distribuição normal.\n",
        "# Ways to resolve missing values: removal, imputation with zero, central values or statistically estimated values.\n",
        "# However, this requires checking that the data has a normal distribution.\n",
        "\n",
        "data.hist(column = 'HDI for year',figsize= (9,6), bins= 30)"
      ]
    },
    {
      "cell_type": "code",
      "execution_count": null,
      "metadata": {
        "id": "RIUhNfa2qvqE"
      },
      "outputs": [],
      "source": [
        "# Vamos imputar a tendência central (média) no lugar dos valores ausentes.\n",
        "# Gerar novo IDH. Onde for nulo, preenche com a média, senão, mantemos o valor atual.\n",
        "# We will impute the central tendency (mean) in place of the missing values.\n",
        "# Generate new HDI. Where it is null, fill in with the mean, otherwise we keep the current value.\n",
        "\n",
        "novo_IDH = np.where(data['HDI for year'].isnull(),data['HDI for year'].mean(),data['HDI for year'])\n",
        "novo_IDH"
      ]
    },
    {
      "cell_type": "code",
      "execution_count": null,
      "metadata": {
        "id": "Vy3aXXmpoA65"
      },
      "outputs": [],
      "source": [
        "# Descrevendo variáveis categóricas- Describing categorical variables\n",
        "data['age'].describe()\n"
      ]
    },
    {
      "cell_type": "code",
      "execution_count": null,
      "metadata": {
        "id": "Tb0FXUsRr13v"
      },
      "outputs": [],
      "source": [
        "\n",
        "data.describe(include = 'O')"
      ]
    },
    {
      "cell_type": "code",
      "execution_count": null,
      "metadata": {
        "id": "KYyyYAJqpMUi"
      },
      "outputs": [],
      "source": [
        "# Gráfico de quantidade de registros da variável idade de acordo com cada categoria.\n",
        "# Graph of the number of records of the variable age according to each category.\n",
        "\n",
        "data['age'].value_counts().plot(kind= 'bar')"
      ]
    },
    {
      "cell_type": "code",
      "execution_count": null,
      "metadata": {
        "id": "xE95dVIVQz6p"
      },
      "outputs": [],
      "source": [
        ""
      ]
    }
  ],
  "metadata": {
    "colab": {
      "collapsed_sections": [],
      "name": "Visão geral das taxas de suicídio 1985 a 2016.ipynb",
      "provenance": [],
      "mount_file_id": "1UEPoulx05vEygOqgDCmG7eQqbZ19LtQ4",
      "authorship_tag": "ABX9TyMnVIxPugrk2HQejvLTjtoC",
      "include_colab_link": true
    },
    "kernelspec": {
      "display_name": "Python 3",
      "name": "python3"
    },
    "language_info": {
      "name": "python"
    }
  },
  "nbformat": 4,
  "nbformat_minor": 0
}